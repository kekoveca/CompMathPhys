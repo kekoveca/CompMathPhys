{
 "cells": [
  {
   "cell_type": "code",
   "execution_count": 19,
   "metadata": {},
   "outputs": [],
   "source": [
    "import numpy as np\n",
    "import matplotlib.pyplot as plt\n",
    "import math\n",
    "import pandas as pd\n",
    "from numpy import linalg as LA"
   ]
  },
  {
   "cell_type": "code",
   "execution_count": 20,
   "metadata": {},
   "outputs": [
    {
     "name": "stdout",
     "output_type": "stream",
     "text": [
      "[[23.  2.  0.  0.]\n",
      " [-2. 48. 10.  0.]\n",
      " [ 0. -5. 60. 17.]\n",
      " [ 0.  0. 12. 34.]]\n",
      "2073387.9999999988\n"
     ]
    }
   ],
   "source": [
    "matr = np.zeros((4, 4))\n",
    "matr[0, 0] = 23\n",
    "matr[0, 1] = 2\n",
    "matr[1, 0] = -2\n",
    "matr[1, 1] = 48\n",
    "matr[1, 2] = 10\n",
    "matr[2, 1] = -5\n",
    "matr[2, 2] = 60\n",
    "matr[2, 3] = 17\n",
    "matr[3, 2] = 12\n",
    "matr[3, 3] = 34\n",
    "print(matr)\n",
    "print(LA.det(matr))\n"
   ]
  },
  {
   "cell_type": "code",
   "execution_count": 21,
   "metadata": {},
   "outputs": [
    {
     "name": "stdout",
     "output_type": "stream",
     "text": [
      "2361640.0\n"
     ]
    }
   ],
   "source": [
    "b = [23, 48., 60., 34.]\n",
    "c = [0, -2, -5., 12.]\n",
    "a = [2, 10., 17., 0]\n",
    "\n",
    "f0 = b[0]\n",
    "f1 = b[1] * f0 - c[1] * a[0]\n",
    "f2 = b[2] * f1 - c[2] * a[1] * f0\n",
    "f3= b[3] * f2 - c[3] * a[2] * f1\n",
    "print(f3)"
   ]
  },
  {
   "cell_type": "code",
   "execution_count": null,
   "metadata": {},
   "outputs": [],
   "source": []
  }
 ],
 "metadata": {
  "kernelspec": {
   "display_name": "Python 3",
   "language": "python",
   "name": "python3"
  },
  "language_info": {
   "codemirror_mode": {
    "name": "ipython",
    "version": 3
   },
   "file_extension": ".py",
   "mimetype": "text/x-python",
   "name": "python",
   "nbconvert_exporter": "python",
   "pygments_lexer": "ipython3",
   "version": "3.11.8"
  }
 },
 "nbformat": 4,
 "nbformat_minor": 2
}
