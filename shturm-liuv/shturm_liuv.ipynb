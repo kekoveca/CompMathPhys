{
 "cells": [
  {
   "cell_type": "code",
   "execution_count": 2,
   "id": "93f38752-7ad5-4c19-a53c-4a1eca79e2ea",
   "metadata": {},
   "outputs": [],
   "source": [
    "import numpy as np\n",
    "import matplotlib.pyplot as plt\n",
    "import math\n",
    "import pandas as pd\n",
    "from numpy import linalg as LA"
   ]
  },
  {
   "cell_type": "code",
   "execution_count": 165,
   "id": "100cb12f",
   "metadata": {},
   "outputs": [],
   "source": [
    "class Solver:\n",
    "    def __init__(self, h):\n",
    "        self.h = h\n",
    "        self.D = 1\n",
    "        \n",
    "        self.L = int(self.D / h + 1)\n",
    "\n",
    "        self.a0 = 0\n",
    "        self.b0 = 1\n",
    "        self.c0 = 0\n",
    "\n",
    "        self.aL = 0\n",
    "        self.bL = 1\n",
    "        self.cL = -1\n",
    "\n",
    "        self.lmb = 0\n",
    "\n",
    "        self.an = lambda n: 1 - 2 * n * self.h * self.h\n",
    "        self.bn = lambda n: 2 * n * self.h * self.h + self.lmb * self.h * self.h - 2\n",
    "        self.cn = 1\n",
    "\n",
    "        self.lmb_prev = self.lmb\n",
    "\n",
    "    def calculateDeterminant(self, lmb):\n",
    "        self.lmb = lmb\n",
    "        f0 = self.b0\n",
    "        f1 = self.bn(1) * f0 - self.c0 * self.a0\n",
    "        det = 0\n",
    "        for n in range(2, self.L + 1):\n",
    "            det = self.bn(n) * f1 - self.cn * self.an(n - 1) * f0\n",
    "            f0 = f1\n",
    "            f1 = det\n",
    "        return det\n",
    "\n",
    "\n",
    "    def solve(self):\n",
    "        for lmb in [0, 50, 100, 200]:\n",
    "\n",
    "            det_left = self.calculateDeterminant(lmb)\n",
    "            det_right = self.calculateDeterminant(0)\n",
    "            lambda_left = lmb\n",
    "            lambda_right = 0\n",
    "\n",
    "            while det_left * det_right > 0:\n",
    "                det_right = self.calculateDeterminant(lambda_right)\n",
    "                # print(det_left, det_right, lambda_left, lambda_right)\n",
    "                lambda_right += 1\n",
    "            \n",
    "            lambda_center = (lambda_left + lambda_right) / 2\n",
    "            det_center = self.calculateDeterminant(lambda_center)\n",
    "\n",
    "            det_reference = det_center\n",
    "            # print(\"While 1:\", '\\n')\n",
    "            while 1:\n",
    "\n",
    "                if det_center * det_left < 0:\n",
    "                    lambda_right = lambda_center\n",
    "                    lambda_center = (lambda_left + lambda_right) / 2\n",
    "                    det_right = self.calculateDeterminant(lambda_right)\n",
    "                if det_center * det_left > 0:\n",
    "                    lambda_left = lambda_center\n",
    "                    lambda_center = (lambda_left + lambda_right) / 2\n",
    "                    det_left = self.calculateDeterminant(lambda_left)\n",
    "\n",
    "                det_center = self.calculateDeterminant(lambda_center)\n",
    "                if np.abs(det_reference - det_center) < 1e-4:\n",
    "                    break\n",
    "                det_reference = det_center\n",
    "                # print(det_left, det_right, lambda_left, lambda_right)\n",
    "            print(f\"Lambda = {lambda_center}\")\n",
    "\n",
    "    def shuttleLambdas(self, left, right, steps):\n",
    "        for lmb in np.linspace(left, right, steps):\n",
    "            print(f'lmb = {lmb:.2f}\\tdet = {self.calculateDeterminant(lmb)}')\n"
   ]
  },
  {
   "cell_type": "code",
   "execution_count": 172,
   "id": "3da28e66",
   "metadata": {},
   "outputs": [],
   "source": [
    "sl = Solver(0.000001)\n",
    "# sl.shuttleLambdas(-500, 500, 1001)"
   ]
  },
  {
   "cell_type": "code",
   "execution_count": 173,
   "id": "8c8c52b4",
   "metadata": {},
   "outputs": [
    {
     "name": "stdout",
     "output_type": "stream",
     "text": [
      "Lambda = 9.151120474896743\n",
      "Lambda = 38.799216404417166\n",
      "Lambda = 88.15394378943893\n",
      "Lambda = 157.24325227038935\n"
     ]
    }
   ],
   "source": [
    "sl.solve()"
   ]
  }
 ],
 "metadata": {
  "kernelspec": {
   "display_name": "Python 3 (ipykernel)",
   "language": "python",
   "name": "python3"
  },
  "language_info": {
   "codemirror_mode": {
    "name": "ipython",
    "version": 3
   },
   "file_extension": ".py",
   "mimetype": "text/x-python",
   "name": "python",
   "nbconvert_exporter": "python",
   "pygments_lexer": "ipython3",
   "version": "3.11.5"
  }
 },
 "nbformat": 4,
 "nbformat_minor": 5
}
