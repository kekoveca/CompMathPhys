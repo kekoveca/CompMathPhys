{
 "cells": [
  {
   "cell_type": "code",
   "execution_count": 1,
   "metadata": {},
   "outputs": [],
   "source": [
    "import numpy as np\n",
    "import matplotlib.pyplot as plt\n",
    "import pandas as pd"
   ]
  },
  {
   "cell_type": "code",
   "execution_count": 2,
   "metadata": {},
   "outputs": [],
   "source": [
    "def u(x):\n",
    "    return np.log(1 + x * x) + np.sin(x)"
   ]
  },
  {
   "cell_type": "code",
   "execution_count": 77,
   "metadata": {},
   "outputs": [],
   "source": [
    "class Solver:\n",
    "\n",
    "    def __init__(self, h, CFL, u):\n",
    "        self.L = 1\n",
    "        self.T = 1\n",
    "        self.h = h\n",
    "        self.CFL = CFL\n",
    "        self.u = u\n",
    "\n",
    "        self.tau = self.CFL * self.h\n",
    "\n",
    "        self.NX = int(self.L / self.h + 1)\n",
    "        self.TX = int(self.T / self.tau + 1) \n",
    "\n",
    "        self.x_i = np.array([(i - 1) * self.h for i in range(1, self.NX + 1)])\n",
    "        self.t_i = np.array([(i - 1) * self.tau for i in range(1, self.TX + 1)])\n",
    "\n",
    "        self.u_n_m = self.u(self.x_i)\n",
    "        self.u_next_m = self.u_n_m.copy()\n",
    "\n",
    "        self.analytic_x_i = np.linspace(0, 1, 11)\n",
    "        self.analytic_u = np.sin(self.analytic_x_i) + np.log(1 + np.power((self.analytic_x_i - 1), 2))\n",
    "        self.analytic_all = np.sin(self.x_i) + np.log(1 + np.power((self.x_i - 1), 2))\n",
    "\n",
    "        self.u_result = []\n",
    "        self.delta_u = []\n",
    "\n",
    "    def solve(self):\n",
    "        for t in self.t_i:\n",
    "            self.u_next_m[0] = np.log(1 + t * t)\n",
    "            self.u_next_m[1] = self.u_n_m[0] + self.h * (1 - (2*t)/(1+t*t)) + (np.power(self.h, 2) / 2) * ((2*(1 - t*t))/np.power((t*t + 1), 2)) + (np.power(self.h, 3) / 6) * (- 1 - (4*t*(np.power(t,2) - 3))/(np.power((1 + t*t), 3)))\n",
    "            self.u_next_m[2] = self.u_n_m[0] + 2 * self.h * (1 - (2*t)/(1+t*t)) + 4 * (np.power(self.h, 2) / 2) * ((2*(1 - t*t))/np.power((t*t + 1), 2)) + 8 * (np.power(self.h, 3) / 6) * (- 1 - (4*t*(np.power(t,2) - 3))/(np.power((1 + t*t), 3)))\n",
    "            for i in range(3, self.NX):\n",
    "                self.u_next_m[i] = self.u_n_m[i] \\\n",
    "                        + (self.CFL / 6) * (2*self.u_n_m[i-3] - 9*self.u_n_m[i-2] + 18*self.u_n_m[i-1] - 11*self.u_n_m[i]) \\\n",
    "                        + (np.power(self.CFL, 2) / 2) * (-self.u_n_m[i-3] + 4*self.u_n_m[i-2] - 5*self.u_n_m[i-1] + 2*self.u_n_m[i]) \\\n",
    "                        - (np.power(self.CFL, 3) / 6) * (-self.u_n_m[i-3] + 3*self.u_n_m[i-2] - 3*self.u_n_m[i-1] + self.u_n_m[i]) \\\n",
    "                        + self.tau*np.cos(self.x_i[i]) + 0.5*np.power(self.tau, 2)*np.sin(self.x_i[i]) - (np.power(self.tau, 3)/6)*np.cos(self.x_i[i])\n",
    "            self.u_n_m = self.u_next_m.copy()\n",
    "    def display(self):\n",
    "        for ind, x in enumerate(self.analytic_x_i):\n",
    "            i, = np.where(np.isclose(self.x_i, x))\n",
    "            self.u_result.append(self.u_n_m[i])\n",
    "            self.delta_u.append(np.abs(self.u_result[ind] - self.analytic_u[ind]))\n",
    "        self.df = pd.DataFrame({\"x\": self.analytic_x_i, \"u аналит.\": self.analytic_u, \"u числ. \": self.u_result ,\"delta u\": self.delta_u})\n",
    "        display(self.df)\n",
    "        print(self.df['delta u'].max())\n",
    "    def displayMaxErr(self):\n",
    "        print(np.max(np.abs(self.analytic_all - self.u_n_m)))"
   ]
  },
  {
   "cell_type": "code",
   "execution_count": 90,
   "metadata": {},
   "outputs": [
    {
     "name": "stdout",
     "output_type": "stream",
     "text": [
      "0.00010000003189314377\n"
     ]
    }
   ],
   "source": [
    "s = Solver(0.002, 0.05, u)\n",
    "s.solve()\n",
    "s.displayMaxErr()"
   ]
  }
 ],
 "metadata": {
  "kernelspec": {
   "display_name": "Python 3",
   "language": "python",
   "name": "python3"
  },
  "language_info": {
   "codemirror_mode": {
    "name": "ipython",
    "version": 3
   },
   "file_extension": ".py",
   "mimetype": "text/x-python",
   "name": "python",
   "nbconvert_exporter": "python",
   "pygments_lexer": "ipython3",
   "version": "3.11.5"
  }
 },
 "nbformat": 4,
 "nbformat_minor": 2
}
